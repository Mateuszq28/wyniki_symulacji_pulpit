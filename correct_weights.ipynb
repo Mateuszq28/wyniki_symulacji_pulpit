{
 "cells": [
  {
   "cell_type": "code",
   "execution_count": 12,
   "metadata": {},
   "outputs": [],
   "source": [
    "import os\n",
    "import json\n",
    "import numpy as np"
   ]
  },
  {
   "cell_type": "markdown",
   "metadata": {},
   "source": [
    "# 2 warstwy"
   ]
  },
  {
   "cell_type": "code",
   "execution_count": 13,
   "metadata": {},
   "outputs": [
    {
     "data": {
      "text/plain": [
       "['1000_photons',\n",
       " '100_000_photons',\n",
       " '100_photons',\n",
       " '10_000_photons',\n",
       " '1_000_000_photons',\n",
       " 'granice_2_warstwy.png',\n",
       " 'osrodek_propagacji_2_warstwy.png']"
      ]
     },
     "execution_count": 13,
     "metadata": {},
     "output_type": "execute_result"
    }
   ],
   "source": [
    "os.listdir('mati-sim 2-layers')"
   ]
  },
  {
   "cell_type": "code",
   "execution_count": 14,
   "metadata": {},
   "outputs": [
    {
     "data": {
      "text/plain": [
       "['mati-sim 2-layers 1000_photons_cube.json',\n",
       " 'mati-sim 2-layers 100_000_photons_cube.json',\n",
       " 'mati-sim 2-layers 100_photons_cube.json',\n",
       " 'mati-sim 2-layers 10_000_photons_cube.json',\n",
       " 'mati-sim 2-layers 1_000_000_photons_cube.json']"
      ]
     },
     "execution_count": 14,
     "metadata": {},
     "output_type": "execute_result"
    }
   ],
   "source": [
    "os.listdir('CUBES/mati-sim 2-layers')"
   ]
  },
  {
   "cell_type": "code",
   "execution_count": 17,
   "metadata": {},
   "outputs": [],
   "source": [
    "js_prefix = ['CUBES', 'mati-sim 2-layers']\n",
    "js = ['mati-sim 2-layers 1000_photons_cube.json',\n",
    "    'mati-sim 2-layers 100_000_photons_cube.json',\n",
    "    'mati-sim 2-layers 100_photons_cube.json',\n",
    "    'mati-sim 2-layers 10_000_photons_cube.json',\n",
    "    'mati-sim 2-layers 1_000_000_photons_cube.json']\n",
    "js = ['/'.join(js_prefix+[js_filename]) for js_filename in js]\n",
    "\n",
    "\n",
    "for js_filename in js:\n",
    "    with open(js_filename, 'r') as f:\n",
    "        cub = json.load(f)\n",
    "    mua_old = 0.37 # label 4\n",
    "    mua_new = 0.0835 # label 3\n",
    "    arr = np.asarray(cub['cube'])\n",
    "    start_z = int(0.75 * arr.shape[2])\n",
    "    arr[:,:,start_z:] = arr[:,:,start_z:] * (mua_old/mua_new)\n",
    "    cub['cube'] = arr.tolist()\n",
    "    with open(js_filename, 'w') as f:\n",
    "        json.dump(cub, f)\n"
   ]
  },
  {
   "cell_type": "code",
   "execution_count": null,
   "metadata": {},
   "outputs": [],
   "source": [
    "# {\"self.shape\": [180, 180, 240], \"material_dumps\":\n",
    "#  [{\"class\": \"Cuboid\", \"label\": 3, \"start_p\": [0.0, 0.0, 0.75], \"end_p\": [1.0, 1.0, 1.0], \"propEnvShape\": [180, 180, 240]},\n",
    "#   {\"class\": \"Cuboid\", \"label\": 4, \"start_p\": [0.0, 0.0, 0.0], \"end_p\": [1.0, 1.0, 0.75], \"propEnvShape\": [180, 180, 240]}]}"
   ]
  },
  {
   "cell_type": "code",
   "execution_count": null,
   "metadata": {},
   "outputs": [],
   "source": [
    "        # \"-2\": {\"mu_a\": 5, \"mu_s\": 95, \"n\": 1.0, \"name\": \"ignore label\", \"print color\": \"#AACB23\"},\n",
    "        # \"-1\": {\"mu_a\": null, \"mu_s\": null, \"n\": null, \"name\": \"light source\", \"print color\": \"#FFE800\"},\n",
    "        # \"0\": {\"mu_a\": 0, \"mu_s\": 0, \"n\": 1.0, \"name\": \"vacuum\", \"print color\": \"#FF00F7\"},\n",
    "        # \"1\": {\"mu_a\": 0.0000019, \"mu_s\": 0.0000006, \"n\": 1.000293, \"name\": \"air\", \"print color\": \"#E4F6FF\"},\n",
    "        # \"2\": {\"mu_a\": 0.001019, \"mu_s\": 0.029813, \"n\": 1.333, \"name\": \"salt water\", \"print color\": \"#5091CE\"},\n",
    "        # \"3\": {\"mu_a\": 0.0835, \"mu_s\": 11.71, \"n\": 1.36, \"name\": \"epidermis\", \"print color\": \"#FFF99A\"},\n",
    "        # \"4\": {\"mu_a\": 0.37, \"mu_s\": 23.8888943003376, \"n\": 1.36, \"name\": \"dermis\", \"print color\": \"#FFCB9A\"},\n",
    "        # \"5\": {\"mu_a\": 1.1, \"mu_s\": 12.8426992965418, \"n\": 1.36, \"name\": \"fatty subcutaneous tissue\", \"print color\": \"#F3FF33\"},\n",
    "        # \"6\": {\"mu_a\": 2.8, \"mu_s\": 12.3086801371514, \"n\": 1.36, \"name\": \"mucous tissue\", \"print color\": \"#A9FFBF\"},\n",
    "        # \"7\": {\"mu_a\": 6.14, \"mu_s\": 17.07, \"n\": 1.36, \"name\": \"vein\", \"print color\": \"#F3794B\"},\n",
    "        # \"8\": {\"mu_a\": 2.1, \"mu_s\": 773, \"n\": 1.37, \"name\": \"blood\", \"print color\": \"#FF1414\"}"
   ]
  },
  {
   "cell_type": "markdown",
   "metadata": {},
   "source": [
    "# 3 warstwy"
   ]
  },
  {
   "cell_type": "code",
   "execution_count": 18,
   "metadata": {},
   "outputs": [
    {
     "data": {
      "text/plain": [
       "['mati-sim 3-layers 1000_fotonow_cube.json',\n",
       " 'mati-sim 3-layers 100_000_fotonow_cube.json',\n",
       " 'mati-sim 3-layers 100_fotonow_cube.json',\n",
       " 'mati-sim 3-layers 10_000_fotonow_cube.json',\n",
       " 'mati-sim 3-layers 1_000_000_cube.json']"
      ]
     },
     "execution_count": 18,
     "metadata": {},
     "output_type": "execute_result"
    }
   ],
   "source": [
    "os.listdir('CUBES/mati-sim 3-layers')"
   ]
  },
  {
   "cell_type": "code",
   "execution_count": 19,
   "metadata": {},
   "outputs": [],
   "source": [
    "js_prefix = ['CUBES', 'mati-sim 3-layers']\n",
    "js = os.listdir('CUBES/mati-sim 3-layers')\n",
    "js = ['/'.join(js_prefix+[js_filename]) for js_filename in js]\n",
    "\n",
    "\n",
    "for js_filename in js:\n",
    "    with open(js_filename, 'r') as f:\n",
    "        cub = json.load(f)\n",
    "    arr = np.asarray(cub['cube'])\n",
    "    mua_old = 0.37 # label 4\n",
    "\n",
    "    mua_new = 0.0835 # label 3\n",
    "    start_z = int(0.666 * arr.shape[2])\n",
    "    arr[:,:,start_z:] = arr[:,:,start_z:] * (mua_old/mua_new)\n",
    "    \n",
    "    mua_new = 1.1 # label 5\n",
    "    start_z = int(0.333 * arr.shape[2])\n",
    "    arr[:,:,:start_z] = arr[:,:,:start_z] * (mua_old/mua_new)\n",
    "\n",
    "    cub['cube'] = arr.tolist()\n",
    "    with open(js_filename, 'w') as f:\n",
    "        json.dump(cub, f)"
   ]
  },
  {
   "cell_type": "code",
   "execution_count": null,
   "metadata": {},
   "outputs": [],
   "source": [
    "# {\"self.shape\": [180, 180, 240], \"material_dumps\":\n",
    "#  [{\"class\": \"Cuboid\", \"label\": 3, \"start_p\": [0.0, 0.0, 0.666], \"end_p\": [1.0, 1.0, 1.0], \"propEnvShape\": [180, 180, 240]},\n",
    "#   {\"class\": \"Cuboid\", \"label\": 4, \"start_p\": [0.0, 0.0, 0.333], \"end_p\": [1.0, 1.0, 0.666], \"propEnvShape\": [180, 180, 240]},\n",
    "#   {\"class\": \"Cuboid\", \"label\": 5, \"start_p\": [0.0, 0.0, 0.0], \"end_p\": [1.0, 1.0, 0.333], \"propEnvShape\": [180, 180, 240]}]}"
   ]
  },
  {
   "cell_type": "markdown",
   "metadata": {},
   "source": [
    "# veins"
   ]
  },
  {
   "cell_type": "code",
   "execution_count": null,
   "metadata": {},
   "outputs": [],
   "source": [
    "# def fill_vein(propEnv, z_pos, r=0.25, vein_thickness=0.10):\n",
    "#     x_pos_idx = propEnv.shape[0] // 2\n",
    "#     z_pos_idx = z_pos * propEnv.shape[2]\n",
    "#     radius = r * propEnv.shape[1]\n",
    "#     vein_thick = vein_thickness * propEnv.shape[1]\n",
    "#     for x_idx in range(propEnv.shape[0]):\n",
    "#         for z_idx in range(propEnv.shape[2]):\n",
    "#             eq = (x_pos_idx - x_idx)**2 + (z_pos_idx - z_idx)**2\n",
    "#             if eq <= (radius - vein_thick)**2:\n",
    "#                 propEnv.body[x_idx, :, z_idx] = 8 # blood\n",
    "#             elif eq <= radius**2:\n",
    "#                 propEnv.body[x_idx, :, z_idx] = 7 # vein"
   ]
  },
  {
   "cell_type": "code",
   "execution_count": null,
   "metadata": {},
   "outputs": [],
   "source": [
    "'veins_env_default.json'"
   ]
  },
  {
   "cell_type": "code",
   "execution_count": null,
   "metadata": {},
   "outputs": [],
   "source": [
    "# {\"self.shape\": [160, 160, 320], \"material_dumps\": \n",
    "#  [{\"class\": \"Cuboid\", \"label\": 1, \"start_p\": [0.0, 0.0, 0.9875], \"end_p\": [1.0, 1.0, 1.0], \"propEnvShape\": [160, 160, 320]},\n",
    "# {\"class\": \"Cuboid\", \"label\": 2, \"start_p\": [0.0, 0.0, 0.975], \"end_p\": [1.0, 1.0, 0.9875], \"propEnvShape\": [160, 160, 320]},\n",
    "#     {\"class\": \"Cuboid\", \"label\": 3, \"start_p\": [0.0, 0.0, 0.9625], \"end_p\": [1.0, 1.0, 0.975], \"propEnvShape\": [160, 160, 320]}, \n",
    "#     {\"class\": \"Cuboid\", \"label\": 4, \"start_p\": [0.0, 0.0, 0.37499999999999994], \"end_p\": [1.0, 1.0, 0.9625], \"propEnvShape\": [160, 160, 320]}, \n",
    "#     {\"class\": \"Cuboid\", \"label\": 5, \"start_p\": [0.0, 0.0, 0.0], \"end_p\": [1.0, 1.0, 0.37499999999999994], \"propEnvShape\": [160, 160, 320]},\n",
    "#     {\"class\": \"Cylinder\", \"label\": 7, \"circle_center\": [80, 0, 196], \"radius\": 34.0, \"height_vector\": [0, 160, 0], \"propEnvShape\": [160, 160, 320]},\n",
    "# {\"class\": \"Cylinder\", \"label\": 8, \"circle_center\": [80, 0, 196], \"radius\": 14.0, \"height_vector\": [0, 160, 0], \"propEnvShape\": [160, 160, 320]}]}"
   ]
  },
  {
   "cell_type": "code",
   "execution_count": 21,
   "metadata": {},
   "outputs": [],
   "source": [
    "mua_decoder = {     \n",
    "    \"-2\": 5,\n",
    "    \"-1\": None,\n",
    "    \"0\": 0,\n",
    "    \"1\": 0.0000019,\n",
    "    \"2\": 0.001019,\n",
    "    \"3\": 0.0835,\n",
    "    \"4\": 0.37,\n",
    "    \"5\": 1.1,\n",
    "    \"6\": 2.8,\n",
    "    \"7\": 6.14,\n",
    "    \"8\": 2.1\n",
    "}\n",
    "\n",
    "\n",
    "with open('veins_env_default.json', 'r') as f:\n",
    "    env = json.load(f)\n",
    "    label_arr = env[\"body\"]\n",
    "    label_arr = np.asarray(label_arr)\n",
    "\n",
    "\n",
    "    # Function to map the array elements using the dictionary\n",
    "    def translate(val):\n",
    "        return mua_decoder[str(val)] # Returns the original value if not found in dict\n",
    "\n",
    "    # Vectorize the function to apply it to all elements\n",
    "    translate_vectorized = np.vectorize(translate)\n",
    "\n",
    "    # Apply translation\n",
    "    mua_arr = translate_vectorized(label_arr)\n",
    "\n",
    "\n",
    "\n",
    "    js_prefix = ['CUBES', 'mati-sim 3-layers']\n",
    "    js = os.listdir('CUBES/mati-sim 3-layers')\n",
    "    js = ['/'.join(js_prefix+[js_filename]) for js_filename in js]\n",
    "\n",
    "\n",
    "    for js_filename in js:\n",
    "        with open(js_filename, 'r') as f2:\n",
    "            cub = json.load(f2)\n",
    "        arr = np.asarray(cub['cube'])\n",
    "        mua_old = 0.37 # label 4\n",
    "\n",
    "        arr = arr * (mua_old/mua_new)\n",
    "\n",
    "        cub['cube'] = arr.tolist()\n",
    "        with open(js_filename, 'w') as f2:\n",
    "            json.dump(cub, f2)\n",
    "\n"
   ]
  },
  {
   "cell_type": "code",
   "execution_count": null,
   "metadata": {},
   "outputs": [],
   "source": []
  }
 ],
 "metadata": {
  "kernelspec": {
   "display_name": "base",
   "language": "python",
   "name": "python3"
  },
  "language_info": {
   "codemirror_mode": {
    "name": "ipython",
    "version": 3
   },
   "file_extension": ".py",
   "mimetype": "text/x-python",
   "name": "python",
   "nbconvert_exporter": "python",
   "pygments_lexer": "ipython3",
   "version": "3.12.3"
  }
 },
 "nbformat": 4,
 "nbformat_minor": 2
}
