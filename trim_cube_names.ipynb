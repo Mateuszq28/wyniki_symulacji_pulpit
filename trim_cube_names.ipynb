{
 "cells": [
  {
   "cell_type": "code",
   "execution_count": 1,
   "metadata": {},
   "outputs": [],
   "source": [
    "import os"
   ]
  },
  {
   "cell_type": "code",
   "execution_count": 3,
   "metadata": {},
   "outputs": [
    {
     "data": {
      "text/plain": [
       "['mati-sim 2-layers',\n",
       " 'mati-sim 3-layers',\n",
       " 'mati-sim my_params 10k g {0, 0.5, 0.9, 1}',\n",
       " 'mati-sim my_params 10k-100mln',\n",
       " 'mati-sim org_params 10k-10mln',\n",
       " 'mati-sim veins',\n",
       " 'mc456 my-params light-sources',\n",
       " 'mc456 my_params 10k-100mln',\n",
       " 'mc456 org_params 10k-100mln',\n",
       " 'mc456 rozne g (0.0-1.0 z krokiem 0.1) 100mln',\n",
       " 'mc456 rozne_skóry_z_tabeli (8 rodzajów) 100mln',\n",
       " 'mc456_p my-params 10k-10mln']"
      ]
     },
     "execution_count": 3,
     "metadata": {},
     "output_type": "execute_result"
    }
   ],
   "source": [
    "os.listdir('CUBES')"
   ]
  },
  {
   "cell_type": "code",
   "execution_count": 4,
   "metadata": {},
   "outputs": [],
   "source": [
    "folder = []\n",
    "text2replace = []\n",
    "new_text = []\n",
    "\n",
    "# =================================================================\n",
    "\n",
    "folder.append('mati-sim 2-layers')\n",
    "\n",
    "# \"mati-sim 2-layers_mati-sim 2-layers_1_000_000_photons_cube\"\n",
    "# \"mati-sim 2-layers 1_000_000_photons_cube\"\n",
    "\n",
    "text2replace.append(\"mati-sim 2-layers_mati-sim 2-layers_\")\n",
    "new_text.append(\"mati-sim 2-layers \")\n",
    "\n",
    "# =================================================================\n",
    "\n",
    "folder.append('mati-sim 3-layers')\n",
    "\n",
    "# \"mati-sim 3-layers_mati-sim 3-layers_1_000_000_cube\"\n",
    "# \"mati-sim 3-layers 1_000_000_cube\"\n",
    "\n",
    "text2replace.append(\"mati-sim 3-layers_mati-sim 3-layers_\")\n",
    "new_text.append(\"mati-sim 3-layers \")\n",
    "\n",
    "# =================================================================\n",
    "\n",
    "folder.append('mati-sim my_params 10k g {0, 0.5, 0.9, 1}')\n",
    "\n",
    "# \"mati-sim my_params 10k g {0, 0.5, 0.9, 1}_mati-sim my_params 10k g {0, 0.5, 0.9, 1}_experiments_done_mati-sim_g_0_5_cube\"\n",
    "# \"mati-sim my_params 10k g_0_5_cube\"\n",
    "\n",
    "text2replace.append(\"mati-sim my_params 10k g {0, 0.5, 0.9, 1}_mati-sim my_params 10k g {0, 0.5, 0.9, 1}_experiments_done_mati-sim_\")\n",
    "new_text.append(\"mati-sim my_params 10k \")\n",
    "\n",
    "# =================================================================\n",
    "\n",
    "folder.append('mati-sim my_params 10k-100mln')\n",
    "\n",
    "# \"mati-sim my_params 10k-100mln_mati-sim my_params 10k-100mln_experiments_done_t_1mln_my_params_cube\"\n",
    "# \"mati-sim 1mln_my_params_cube\"\n",
    "\n",
    "text2replace.append(\"mati-sim my_params 10k-100mln_mati-sim my_params 10k-100mln_experiments_done_t_\")\n",
    "new_text.append(\"mati-sim \")\n",
    "\n",
    "# =================================================================\n",
    "\n",
    "folder.append('mati-sim org_params 10k-10mln')\n",
    "\n",
    "# \"mati-sim org_params 10k-10mln_mati-sim org_params 10k-10mln_experiments_done_t_1mln_original_params_cube\"\n",
    "# \"mati-sim 1mln_original_params_cube\"\n",
    "\n",
    "text2replace.append(\"mati-sim org_params 10k-10mln_mati-sim org_params 10k-10mln_experiments_done_t_\")\n",
    "new_text.append(\"mati-sim \")\n",
    "\n",
    "# =================================================================\n",
    "\n",
    "folder.append('mati-sim veins')\n",
    "\n",
    "# \"mati-sim veins_mati-sim veins_1000_fotonów_cube\"\n",
    "# \"mati-sim veins 1000_fotonów_cube\"\n",
    "\n",
    "text2replace.append(\"mati-sim veins_mati-sim veins_\")\n",
    "new_text.append(\"mati-sim veins \")\n",
    "\n",
    "# =================================================================\n"
   ]
  },
  {
   "cell_type": "code",
   "execution_count": 5,
   "metadata": {},
   "outputs": [],
   "source": [
    "for f, old, new in zip(folder, text2replace, new_text):\n",
    "    folder_path = os.path.join('CUBES', f)\n",
    "    for filename in os.listdir(folder_path):\n",
    "        old_path = os.path.join(folder_path, filename)\n",
    "        new_path = old_path.replace(old, new)\n",
    "        os.rename(old_path, new_path)"
   ]
  },
  {
   "cell_type": "markdown",
   "metadata": {},
   "source": [
    "-------------------"
   ]
  },
  {
   "cell_type": "code",
   "execution_count": 1,
   "metadata": {},
   "outputs": [],
   "source": [
    "import os"
   ]
  },
  {
   "cell_type": "code",
   "execution_count": 4,
   "metadata": {},
   "outputs": [],
   "source": [
    "infolder = os.listdir()"
   ]
  },
  {
   "cell_type": "code",
   "execution_count": 3,
   "metadata": {},
   "outputs": [],
   "source": [
    "inword = [\n",
    "    'mati-sim my_params 10k-100mln',\n",
    "    'mati-sim org_params 10k-10mln', # (100 mln liczyłoby się 14 dni)\n",
    "    'mati-sim my_params 10k g {0, 0.5, 0.9, 1}',\n",
    "    'mc456 my_params 10k-100mln',\n",
    "    'mc456 org_params 10k-100mln',\n",
    "    'mc456 rozne g (0.0-1.0 z krokiem 0.1) 100mln',\n",
    "    'mc456 rozne_skóry_z_tabeli (8 rodzajów) 100mln',\n",
    "    'tiny my_params 10k-100mln',\n",
    "    'tiny org_params 10k-100mln',\n",
    "    'small my_params 10k-100mln',\n",
    "    'small org_params 10k-100mln'\n",
    "]"
   ]
  },
  {
   "cell_type": "code",
   "execution_count": 5,
   "metadata": {},
   "outputs": [
    {
     "name": "stdout",
     "output_type": "stream",
     "text": [
      ".git\n",
      ".gitignore\n",
      "cp_jsons_as_cubes.py\n",
      "CUBES\n",
      "mati-sim 2-layers\n",
      "mati-sim 3-layers\n",
      "mati-sim veins\n",
      "mc456 my-params light-sources\n",
      "mc456_p my-params 10k-10mln\n",
      "trim_cube_names.ipynb\n"
     ]
    }
   ],
   "source": [
    "for w in infolder:\n",
    "    if w not in inword:\n",
    "        print(w)"
   ]
  },
  {
   "cell_type": "code",
   "execution_count": null,
   "metadata": {},
   "outputs": [],
   "source": [
    "mati-sim 2-layers\n",
    "mati-sim 3-layers\n",
    "mati-sim veins\n",
    "\n",
    "mc456 my-params light-sources\n",
    "mc456_p my-params 10k-10mln"
   ]
  },
  {
   "cell_type": "markdown",
   "metadata": {},
   "source": [
    "----------"
   ]
  },
  {
   "cell_type": "code",
   "execution_count": null,
   "metadata": {},
   "outputs": [],
   "source": [
    "mati-sim my_params 10k-100mln\n",
    "mati-sim org_params 10k-10mln\n",
    "\n",
    "mc456 my_params 10k-100mln\n",
    "mc456 org_params 10k-100mln\n",
    "mc456 rozne g (0.0-1.0 z krokiem 0.1) 100mln\n",
    "mc456 rozne_skóry_z_tabeli (8 rodzajów) 100mln\n",
    "mc456 my-params light-sources\n",
    "\n",
    "tiny my_params 10k-100mln\n",
    "tiny org_params 10k-100mln\n",
    "small my_params 10k-100mln\n",
    "small org_params 10k-100mln\n",
    "\n",
    "mati-sim 2-layers\n",
    "mati-sim 3-layers\n",
    "mati-sim veins\n",
    "mati-sim my_params 10k g {0, 0.5, 0.9, 1}\n",
    "\n",
    "mc456_p my-params 10k-10mln\n",
    "\n",
    "\n",
    "\n",
    "\n",
    "\n",
    "\n",
    "\n",
    "\n",
    "\n",
    "\n",
    "\n",
    "\n",
    "\n",
    "\n",
    "\n",
    "\n",
    "WYKRESY UBER 3D - vispy\n",
    "\n",
    "\n",
    "\n",
    "DO PODGLĄDU NAJLEPSZE, TABELKA ZE STATYSTYKAMI FULL W ZAŁĄCZNIKU\n",
    "- per seria\n",
    "\n",
    "- najlepsze *\n",
    "- wszystkie\n",
    "\n",
    "- 3D *\n",
    "- 2D *\n",
    "- 1D *\n",
    "\n",
    "- statystyki solo *\n",
    "- wykresy solo *\n",
    "\n",
    "- porównanie statystyki\n",
    "- porónanie wizualne\n",
    "\n",
    "\n",
    "\n",
    "\n",
    "\n",
    "\n",
    "\n",
    "\n",
    "\n",
    "porónanie python - język c:\n",
    "\n",
    "mc456 my_params 10k-100mln\n",
    "mc456_p my-params 10k-10mln\n",
    "\n",
    "\n",
    "\n",
    "\n",
    "PORÓWNYWANIE OGÓLNE:\n",
    "\n",
    "mati-sim my_params 10k-100mln\n",
    "mc456 my_params 10k-100mln\n",
    "\n",
    "mati-sim org_params 10k-10mln\n",
    "mc456 org_params 10k-100mln\n",
    "\n",
    "\n",
    "\n",
    "specjalistyczne:\n",
    "\n",
    "mc456 rozne g (0.0-1.0 z krokiem 0.1) 100mln\n",
    "\n",
    "mati-sim my_params 10k g {0, 0.5, 0.9, 1}\n",
    "\n",
    "mc456 rozne_skóry_z_tabeli (8 rodzajów) 100mln\n",
    "\n",
    "mc456 my-params light-sources\n",
    "\n",
    "\n",
    "\n",
    "dodatkowe:\n",
    "\n",
    "mati-sim 2-layers\n",
    "\n",
    "mati-sim 3-layers\n",
    "\n",
    "mati-sim veins\n",
    "\n",
    "\n",
    "czasowe:\n",
    "\n",
    "mati-sim my_params 10k-100mln\n",
    "mati-sim org_params 10k-10mln\n",
    "mc456 my_params 10k-100mln\n",
    "mc456 org_params 10k-100mln\n",
    "mc456 rozne g (0.0-1.0 z krokiem 0.1) 100mln\n",
    "mc456 rozne_skóry_z_tabeli (8 rodzajów) 100mln\n",
    "mc456 my-params light-sources\n",
    "tiny my_params 10k-100mln\n",
    "tiny org_params 10k-100mln\n",
    "small my_params 10k-100mln\n",
    "small org_params 10k-100mln\n",
    "mati-sim 2-layers\n",
    "mati-sim 3-layers\n",
    "mati-sim veins\n",
    "mati-sim my_params 10k g {0, 0.5, 0.9, 1}\n",
    "mc456_p my-params 10k-10mln\n",
    "\n"
   ]
  },
  {
   "cell_type": "code",
   "execution_count": 6,
   "metadata": {},
   "outputs": [
    {
     "data": {
      "text/plain": [
       "['mati-sim 2-layers',\n",
       " 'mati-sim 3-layers',\n",
       " 'mati-sim my_params 10k g {0, 0.5, 0.9, 1}',\n",
       " 'mati-sim my_params 10k-100mln',\n",
       " 'mati-sim org_params 10k-10mln',\n",
       " 'mati-sim veins',\n",
       " 'mc456 my-params light-sources',\n",
       " 'mc456 my_params 10k-100mln',\n",
       " 'mc456 org_params 10k-100mln',\n",
       " 'mc456 rozne g (0.0-1.0 z krokiem 0.1) 100mln',\n",
       " 'mc456 rozne_skóry_z_tabeli (8 rodzajów) 100mln',\n",
       " 'mc456_p my-params 10k-10mln']"
      ]
     },
     "execution_count": 6,
     "metadata": {},
     "output_type": "execute_result"
    }
   ],
   "source": [
    "os.listdir('CUBES')"
   ]
  },
  {
   "cell_type": "code",
   "execution_count": null,
   "metadata": {},
   "outputs": [],
   "source": []
  }
 ],
 "metadata": {
  "kernelspec": {
   "display_name": "base",
   "language": "python",
   "name": "python3"
  },
  "language_info": {
   "codemirror_mode": {
    "name": "ipython",
    "version": 3
   },
   "file_extension": ".py",
   "mimetype": "text/x-python",
   "name": "python",
   "nbconvert_exporter": "python",
   "pygments_lexer": "ipython3",
   "version": "3.12.3"
  }
 },
 "nbformat": 4,
 "nbformat_minor": 2
}
